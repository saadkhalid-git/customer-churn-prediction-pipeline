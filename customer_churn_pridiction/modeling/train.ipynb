{
 "cells": [
  {
   "cell_type": "code",
   "execution_count": 9,
   "metadata": {},
   "outputs": [],
   "source": [
    "import mlflow\n",
    "import mlflow.sklearn\n",
    "import mlflow.xgboost\n",
    "import xgboost as xgb\n",
    "import pandas as pd\n",
    "import shap\n",
    "import joblib\n",
    "import os\n",
    "import matplotlib\n",
    "matplotlib.use('Agg')\n",
    "import matplotlib.pyplot as plt\n",
    "import seaborn as sns\n",
    "from sklearn.ensemble import RandomForestClassifier\n",
    "from sklearn.linear_model import LogisticRegression\n",
    "from sklearn.metrics import accuracy_score, classification_report\n",
    "from customer_churn_pridiction.config import PROCESSED_DATA_DIR, MLFLOW_DIR, MODELS_DIR, SHAP_PLOTS_DIR"
   ]
  },
  {
   "cell_type": "code",
   "execution_count": 2,
   "metadata": {},
   "outputs": [],
   "source": [
    "train_data = pd.read_csv(PROCESSED_DATA_DIR / 'train.csv')\n",
    "test_data = pd.read_csv(PROCESSED_DATA_DIR / 'test.csv')\n",
    "target = 'Churn'\n",
    "\n",
    "X_train = train_data.drop(columns=[target])\n",
    "Y_train = train_data[target]\n",
    "X_test = test_data.drop(columns=[target])\n",
    "Y_test = test_data[target]"
   ]
  },
  {
   "cell_type": "code",
   "execution_count": 3,
   "metadata": {},
   "outputs": [],
   "source": [
    "standard_scaler = joblib.load(PROCESSED_DATA_DIR / 'standard_scaler.joblib')\n",
    "one_hot_encoder = joblib.load(PROCESSED_DATA_DIR / 'one_hot_encoder.joblib')"
   ]
  },
  {
   "cell_type": "code",
   "execution_count": 4,
   "metadata": {},
   "outputs": [],
   "source": [
    "\n",
    "X_train_encoded = one_hot_encoder.transform(X_train.select_dtypes(include=['object']))\n",
    "\n",
    "X_train_encoded_df = pd.DataFrame(X_train_encoded, columns=one_hot_encoder.get_feature_names_out(X_train.select_dtypes(include=['object']).columns.tolist()))\n",
    "\n",
    "X_train = pd.concat([X_train.select_dtypes(exclude=['object']), X_train_encoded_df], axis=1)"
   ]
  },
  {
   "cell_type": "code",
   "execution_count": 5,
   "metadata": {},
   "outputs": [],
   "source": [
    "X_test_encoded = one_hot_encoder.transform(X_test.select_dtypes(include=['object']))\n",
    "\n",
    "X_test_encoded_df = pd.DataFrame(X_test_encoded, columns=one_hot_encoder.get_feature_names_out(X_test.select_dtypes(include=['object']).columns.tolist()))\n",
    "\n",
    "\n",
    "X_test = pd.concat([X_test.select_dtypes(exclude=['object']), X_test_encoded_df], axis=1)"
   ]
  },
  {
   "cell_type": "code",
   "execution_count": 10,
   "metadata": {},
   "outputs": [
    {
     "name": "stderr",
     "output_type": "stream",
     "text": [
      "2024/10/31 00:25:09 WARNING mlflow.models.model: Model logged without a signature and input example. Please set `input_example` parameter when logging the model to auto infer the model signature.\n",
      "/opt/homebrew/Caskroom/miniconda/base/envs/customer-churn-prediction-pipeline/lib/python3.9/site-packages/shap/plots/_beeswarm.py:952: UserWarning: FigureCanvasAgg is non-interactive, and thus cannot be shown\n",
      "  pl.show()\n"
     ]
    },
    {
     "name": "stdout",
     "output_type": "stream",
     "text": [
      "\n",
      "Model: XGBoost\n",
      "Train accuracy: 0.9727\n",
      "Test accuracy: 0.9383\n",
      "Classification report for test data:\n",
      "              precision    recall  f1-score   support\n",
      "\n",
      "           0       0.95      0.98      0.96       898\n",
      "           1       0.88      0.72      0.79       172\n",
      "\n",
      "    accuracy                           0.94      1070\n",
      "   macro avg       0.91      0.85      0.88      1070\n",
      "weighted avg       0.94      0.94      0.94      1070\n",
      "\n"
     ]
    },
    {
     "name": "stderr",
     "output_type": "stream",
     "text": [
      "/opt/homebrew/Caskroom/miniconda/base/envs/customer-churn-prediction-pipeline/lib/python3.9/site-packages/shap/plots/_scatter.py:777: UserWarning: FigureCanvasAgg is non-interactive, and thus cannot be shown\n",
      "  pl.show()\n",
      "/opt/homebrew/Caskroom/miniconda/base/envs/customer-churn-prediction-pipeline/lib/python3.9/site-packages/shap/plots/_waterfall.py:315: UserWarning: FigureCanvasAgg is non-interactive, and thus cannot be shown\n",
      "  plt.show()\n",
      "/opt/homebrew/Caskroom/miniconda/base/envs/customer-churn-prediction-pipeline/lib/python3.9/site-packages/shap/plots/_beeswarm.py:952: UserWarning: FigureCanvasAgg is non-interactive, and thus cannot be shown\n",
      "  pl.show()\n"
     ]
    },
    {
     "name": "stdout",
     "output_type": "stream",
     "text": [
      "Error logging SHAP plots for XGBoost: [Errno 2] No such file or directory: '/Users/saadkhalid/Documents/epita/s2/ai_methodology/customer-churn-prediction-pipeline/shap/shap_force_plot_XGBoost.html'\n"
     ]
    },
    {
     "ename": "FileNotFoundError",
     "evalue": "[Errno 2] No such file or directory: 'XGBoost_model.joblib'",
     "output_type": "error",
     "traceback": [
      "\u001b[0;31m---------------------------------------------------------------------------\u001b[0m",
      "\u001b[0;31mFileNotFoundError\u001b[0m                         Traceback (most recent call last)",
      "Cell \u001b[0;32mIn[10], line 94\u001b[0m\n\u001b[1;32m     92\u001b[0m     model_dump_path \u001b[38;5;241m=\u001b[39m \u001b[38;5;124mf\u001b[39m\u001b[38;5;124m\"\u001b[39m\u001b[38;5;132;01m{\u001b[39;00mmodel_name\u001b[38;5;132;01m}\u001b[39;00m\u001b[38;5;124m_model.joblib\u001b[39m\u001b[38;5;124m\"\u001b[39m\n\u001b[1;32m     93\u001b[0m     joblib\u001b[38;5;241m.\u001b[39mdump(model, MODELS_DIR \u001b[38;5;241m/\u001b[39m model_dump_path)\n\u001b[0;32m---> 94\u001b[0m     \u001b[43mmlflow\u001b[49m\u001b[38;5;241;43m.\u001b[39;49m\u001b[43mlog_artifact\u001b[49m\u001b[43m(\u001b[49m\u001b[43mmodel_dump_path\u001b[49m\u001b[43m)\u001b[49m\n\u001b[1;32m     96\u001b[0m \u001b[38;5;28mprint\u001b[39m(\u001b[38;5;124mf\u001b[39m\u001b[38;5;124m'\u001b[39m\u001b[38;5;124mModel: \u001b[39m\u001b[38;5;132;01m{\u001b[39;00mmodel_name\u001b[38;5;132;01m}\u001b[39;00m\u001b[38;5;124m - completed and logged all SHAP plots and model artifacts.\u001b[39m\u001b[38;5;124m'\u001b[39m)\n",
      "File \u001b[0;32m/opt/homebrew/Caskroom/miniconda/base/envs/customer-churn-prediction-pipeline/lib/python3.9/site-packages/mlflow/tracking/fluent.py:1130\u001b[0m, in \u001b[0;36mlog_artifact\u001b[0;34m(local_path, artifact_path, run_id)\u001b[0m\n\u001b[1;32m   1100\u001b[0m \u001b[38;5;250m\u001b[39m\u001b[38;5;124;03m\"\"\"\u001b[39;00m\n\u001b[1;32m   1101\u001b[0m \u001b[38;5;124;03mLog a local file or directory as an artifact of the currently active run. If no run is\u001b[39;00m\n\u001b[1;32m   1102\u001b[0m \u001b[38;5;124;03mactive, this method will create a new active run.\u001b[39;00m\n\u001b[0;32m   (...)\u001b[0m\n\u001b[1;32m   1127\u001b[0m \u001b[38;5;124;03m            mlflow.log_artifact(path)\u001b[39;00m\n\u001b[1;32m   1128\u001b[0m \u001b[38;5;124;03m\"\"\"\u001b[39;00m\n\u001b[1;32m   1129\u001b[0m run_id \u001b[38;5;241m=\u001b[39m run_id \u001b[38;5;129;01mor\u001b[39;00m _get_or_start_run()\u001b[38;5;241m.\u001b[39minfo\u001b[38;5;241m.\u001b[39mrun_id\n\u001b[0;32m-> 1130\u001b[0m \u001b[43mMlflowClient\u001b[49m\u001b[43m(\u001b[49m\u001b[43m)\u001b[49m\u001b[38;5;241;43m.\u001b[39;49m\u001b[43mlog_artifact\u001b[49m\u001b[43m(\u001b[49m\u001b[43mrun_id\u001b[49m\u001b[43m,\u001b[49m\u001b[43m \u001b[49m\u001b[43mlocal_path\u001b[49m\u001b[43m,\u001b[49m\u001b[43m \u001b[49m\u001b[43martifact_path\u001b[49m\u001b[43m)\u001b[49m\n",
      "File \u001b[0;32m/opt/homebrew/Caskroom/miniconda/base/envs/customer-churn-prediction-pipeline/lib/python3.9/site-packages/mlflow/tracking/client.py:1928\u001b[0m, in \u001b[0;36mMlflowClient.log_artifact\u001b[0;34m(self, run_id, local_path, artifact_path)\u001b[0m\n\u001b[1;32m   1924\u001b[0m \u001b[38;5;28;01mif\u001b[39;00m run_id\u001b[38;5;241m.\u001b[39mstartswith(TRACE_REQUEST_ID_PREFIX):\n\u001b[1;32m   1925\u001b[0m     \u001b[38;5;28;01mraise\u001b[39;00m MlflowException(\n\u001b[1;32m   1926\u001b[0m         \u001b[38;5;124mf\u001b[39m\u001b[38;5;124m\"\u001b[39m\u001b[38;5;124mInvalid run id: \u001b[39m\u001b[38;5;132;01m{\u001b[39;00mrun_id\u001b[38;5;132;01m}\u001b[39;00m\u001b[38;5;124m. `log_artifact` run id must map to a valid run.\u001b[39m\u001b[38;5;124m\"\u001b[39m\n\u001b[1;32m   1927\u001b[0m     )\n\u001b[0;32m-> 1928\u001b[0m \u001b[38;5;28;43mself\u001b[39;49m\u001b[38;5;241;43m.\u001b[39;49m\u001b[43m_tracking_client\u001b[49m\u001b[38;5;241;43m.\u001b[39;49m\u001b[43mlog_artifact\u001b[49m\u001b[43m(\u001b[49m\u001b[43mrun_id\u001b[49m\u001b[43m,\u001b[49m\u001b[43m \u001b[49m\u001b[43mlocal_path\u001b[49m\u001b[43m,\u001b[49m\u001b[43m \u001b[49m\u001b[43martifact_path\u001b[49m\u001b[43m)\u001b[49m\n",
      "File \u001b[0;32m/opt/homebrew/Caskroom/miniconda/base/envs/customer-churn-prediction-pipeline/lib/python3.9/site-packages/mlflow/tracking/_tracking_service/client.py:841\u001b[0m, in \u001b[0;36mTrackingServiceClient.log_artifact\u001b[0;34m(self, run_id, local_path, artifact_path)\u001b[0m\n\u001b[1;32m    839\u001b[0m     artifact_repo\u001b[38;5;241m.\u001b[39mlog_artifacts(local_path, path_name)\n\u001b[1;32m    840\u001b[0m \u001b[38;5;28;01melse\u001b[39;00m:\n\u001b[0;32m--> 841\u001b[0m     \u001b[43martifact_repo\u001b[49m\u001b[38;5;241;43m.\u001b[39;49m\u001b[43mlog_artifact\u001b[49m\u001b[43m(\u001b[49m\u001b[43mlocal_path\u001b[49m\u001b[43m,\u001b[49m\u001b[43m \u001b[49m\u001b[43martifact_path\u001b[49m\u001b[43m)\u001b[49m\n",
      "File \u001b[0;32m/opt/homebrew/Caskroom/miniconda/base/envs/customer-churn-prediction-pipeline/lib/python3.9/site-packages/mlflow/store/artifact/local_artifact_repo.py:45\u001b[0m, in \u001b[0;36mLocalArtifactRepository.log_artifact\u001b[0;34m(self, local_file, artifact_path)\u001b[0m\n\u001b[1;32m     43\u001b[0m     mkdir(artifact_dir)\n\u001b[1;32m     44\u001b[0m \u001b[38;5;28;01mtry\u001b[39;00m:\n\u001b[0;32m---> 45\u001b[0m     \u001b[43mshutil\u001b[49m\u001b[38;5;241;43m.\u001b[39;49m\u001b[43mcopy2\u001b[49m\u001b[43m(\u001b[49m\u001b[43mlocal_file\u001b[49m\u001b[43m,\u001b[49m\u001b[43m \u001b[49m\u001b[43mos\u001b[49m\u001b[38;5;241;43m.\u001b[39;49m\u001b[43mpath\u001b[49m\u001b[38;5;241;43m.\u001b[39;49m\u001b[43mjoin\u001b[49m\u001b[43m(\u001b[49m\u001b[43martifact_dir\u001b[49m\u001b[43m,\u001b[49m\u001b[43m \u001b[49m\u001b[43mos\u001b[49m\u001b[38;5;241;43m.\u001b[39;49m\u001b[43mpath\u001b[49m\u001b[38;5;241;43m.\u001b[39;49m\u001b[43mbasename\u001b[49m\u001b[43m(\u001b[49m\u001b[43mlocal_file\u001b[49m\u001b[43m)\u001b[49m\u001b[43m)\u001b[49m\u001b[43m)\u001b[49m\n\u001b[1;32m     46\u001b[0m \u001b[38;5;28;01mexcept\u001b[39;00m shutil\u001b[38;5;241m.\u001b[39mSameFileError:\n\u001b[1;32m     47\u001b[0m     \u001b[38;5;28;01mpass\u001b[39;00m\n",
      "File \u001b[0;32m/opt/homebrew/Caskroom/miniconda/base/envs/customer-churn-prediction-pipeline/lib/python3.9/shutil.py:444\u001b[0m, in \u001b[0;36mcopy2\u001b[0;34m(src, dst, follow_symlinks)\u001b[0m\n\u001b[1;32m    442\u001b[0m \u001b[38;5;28;01mif\u001b[39;00m os\u001b[38;5;241m.\u001b[39mpath\u001b[38;5;241m.\u001b[39misdir(dst):\n\u001b[1;32m    443\u001b[0m     dst \u001b[38;5;241m=\u001b[39m os\u001b[38;5;241m.\u001b[39mpath\u001b[38;5;241m.\u001b[39mjoin(dst, os\u001b[38;5;241m.\u001b[39mpath\u001b[38;5;241m.\u001b[39mbasename(src))\n\u001b[0;32m--> 444\u001b[0m \u001b[43mcopyfile\u001b[49m\u001b[43m(\u001b[49m\u001b[43msrc\u001b[49m\u001b[43m,\u001b[49m\u001b[43m \u001b[49m\u001b[43mdst\u001b[49m\u001b[43m,\u001b[49m\u001b[43m \u001b[49m\u001b[43mfollow_symlinks\u001b[49m\u001b[38;5;241;43m=\u001b[39;49m\u001b[43mfollow_symlinks\u001b[49m\u001b[43m)\u001b[49m\n\u001b[1;32m    445\u001b[0m copystat(src, dst, follow_symlinks\u001b[38;5;241m=\u001b[39mfollow_symlinks)\n\u001b[1;32m    446\u001b[0m \u001b[38;5;28;01mreturn\u001b[39;00m dst\n",
      "File \u001b[0;32m/opt/homebrew/Caskroom/miniconda/base/envs/customer-churn-prediction-pipeline/lib/python3.9/shutil.py:264\u001b[0m, in \u001b[0;36mcopyfile\u001b[0;34m(src, dst, follow_symlinks)\u001b[0m\n\u001b[1;32m    262\u001b[0m     os\u001b[38;5;241m.\u001b[39msymlink(os\u001b[38;5;241m.\u001b[39mreadlink(src), dst)\n\u001b[1;32m    263\u001b[0m \u001b[38;5;28;01melse\u001b[39;00m:\n\u001b[0;32m--> 264\u001b[0m     \u001b[38;5;28;01mwith\u001b[39;00m \u001b[38;5;28;43mopen\u001b[39;49m\u001b[43m(\u001b[49m\u001b[43msrc\u001b[49m\u001b[43m,\u001b[49m\u001b[43m \u001b[49m\u001b[38;5;124;43m'\u001b[39;49m\u001b[38;5;124;43mrb\u001b[39;49m\u001b[38;5;124;43m'\u001b[39;49m\u001b[43m)\u001b[49m \u001b[38;5;28;01mas\u001b[39;00m fsrc:\n\u001b[1;32m    265\u001b[0m         \u001b[38;5;28;01mtry\u001b[39;00m:\n\u001b[1;32m    266\u001b[0m             \u001b[38;5;28;01mwith\u001b[39;00m \u001b[38;5;28mopen\u001b[39m(dst, \u001b[38;5;124m'\u001b[39m\u001b[38;5;124mwb\u001b[39m\u001b[38;5;124m'\u001b[39m) \u001b[38;5;28;01mas\u001b[39;00m fdst:\n\u001b[1;32m    267\u001b[0m                 \u001b[38;5;66;03m# macOS\u001b[39;00m\n",
      "\u001b[0;31mFileNotFoundError\u001b[0m: [Errno 2] No such file or directory: 'XGBoost_model.joblib'"
     ]
    }
   ],
   "source": [
    "mlflow.set_tracking_uri(MLFLOW_DIR)\n",
    "mlflow.set_experiment('customer_churn_prediction_experiment')\n",
    "\n",
    "models = [\n",
    "    ('XGBoost', xgb.XGBClassifier(n_estimators=100, max_depth=5, learning_rate=0.1, random_state=0)),\n",
    "    ('RandomForest', RandomForestClassifier(n_estimators=100, max_depth=5, random_state=0)),\n",
    "    ('LogisticRegression', LogisticRegression(max_iter=100, random_state=0))\n",
    "]\n",
    "\n",
    "# Loop through models\n",
    "for model_name, model in models:\n",
    "    with mlflow.start_run(run_name=model_name):\n",
    "        # Fit the model and log parameters\n",
    "        model.fit(standard_scaler.transform(X_train), Y_train)\n",
    "        mlflow.log_param('model', model_name)\n",
    "\n",
    "        # Log parameters specific to the model\n",
    "        model_params = {\n",
    "            'XGBoost': {'n_estimators': 100, 'max_depth': 5, 'learning_rate': 0.1},\n",
    "            'RandomForest': {'n_estimators': 100, 'max_depth': 5},\n",
    "            'LogisticRegression': {'max_iter': 100}\n",
    "        }\n",
    "        for param, value in model_params[model_name].items():\n",
    "            mlflow.log_param(param, value)\n",
    "\n",
    "        # Predictions and accuracy\n",
    "        Y_train_pred = model.predict(standard_scaler.transform(X_train))\n",
    "        Y_test_pred = model.predict(standard_scaler.transform(X_test))\n",
    "        train_accuracy = accuracy_score(Y_train, Y_train_pred)\n",
    "        test_accuracy = accuracy_score(Y_test, Y_test_pred)\n",
    "        \n",
    "        mlflow.log_metric('train_accuracy', train_accuracy)\n",
    "        mlflow.log_metric('test_accuracy', test_accuracy)\n",
    "\n",
    "        # Log model and artifacts\n",
    "        mlflow.sklearn.log_model(model, 'model')\n",
    "        mlflow.log_artifact(PROCESSED_DATA_DIR / 'standard_scaler.joblib')\n",
    "        mlflow.log_artifact(PROCESSED_DATA_DIR / 'one_hot_encoder.joblib')\n",
    "\n",
    "        # Print results\n",
    "        print(f'\\nModel: {model_name}')\n",
    "        print(f'Train accuracy: {train_accuracy:.4f}')\n",
    "        print(f'Test accuracy: {test_accuracy:.4f}')\n",
    "        print('Classification report for test data:')\n",
    "        print(classification_report(Y_test, Y_test_pred))\n",
    "        \n",
    "        # SHAP explanations for tree-based models only\n",
    "        if model_name in ['XGBoost', 'RandomForest']:\n",
    "            explainer = shap.TreeExplainer(model)\n",
    "            shap_values = explainer.shap_values(standard_scaler.transform(X_test))\n",
    "            \n",
    "            try:\n",
    "                # Summary plot (bar)\n",
    "                plt.figure()\n",
    "                shap.summary_plot(shap_values, X_test, plot_type='bar')\n",
    "                summary_plot_path = os.path.join(SHAP_PLOTS_DIR, f'shap_summary_plot_{model_name}.png')\n",
    "                plt.savefig(summary_plot_path)\n",
    "                plt.close()  # Close the figure after saving\n",
    "\n",
    "                # Dependence plot\n",
    "                plt.figure()\n",
    "                shap.dependence_plot('Tenure', shap_values, X_test)\n",
    "                dependence_plot_path = os.path.join(SHAP_PLOTS_DIR, f'shap_dependence_plot_tenure_{model_name}.png')\n",
    "                plt.savefig(dependence_plot_path)\n",
    "                plt.close()  # Close the figure after saving\n",
    "                \n",
    "                # Waterfall plot for a single instance\n",
    "                plt.figure()\n",
    "                shap.waterfall_plot(shap.Explanation(values=shap_values[0], base_values=explainer.expected_value, data=X_test.iloc[0]))\n",
    "                waterfall_plot_path = os.path.join(SHAP_PLOTS_DIR, f'shap_waterfall_plot_{model_name}.png')\n",
    "                plt.savefig(waterfall_plot_path)\n",
    "                plt.close()  # Close the figure after saving\n",
    "\n",
    "                # Beeswarm plot\n",
    "                plt.figure()\n",
    "                shap.summary_plot(shap_values, X_test, plot_type='dot')\n",
    "                beeswarm_plot_path = os.path.join(SHAP_PLOTS_DIR, f'shap_beeswarm_plot_{model_name}.png')\n",
    "                plt.savefig(beeswarm_plot_path)\n",
    "                plt.close()  # Close the figure after saving\n",
    "                \n",
    "                # Force plot (specific data point)\n",
    "                force_plot_path = os.path.join(SHAP_PLOTS_DIR, f'shap_force_plot_{model_name}.html')\n",
    "                shap.force_plot(explainer.expected_value, shap_values[0], X_test.iloc[0], show=False)\n",
    "                plt.close()  # Close any opened figures (if applicable)\n",
    "\n",
    "                mlflow.log_artifact(force_plot_path)\n",
    "\n",
    "            except Exception as e:\n",
    "                print(f\"Error logging SHAP plots for {model_name}: {e}\")\n",
    "\n",
    "        # Dump model after training\n",
    "        model_dump_path = f\"{model_name}_model.joblib\"\n",
    "        joblib.dump(model, MODELS_DIR / model_dump_path)\n",
    "        mlflow.log_artifact(model_dump_path)\n",
    "\n",
    "    print(f'Model: {model_name} - completed and logged all SHAP plots and model artifacts.')"
   ]
  },
  {
   "cell_type": "code",
   "execution_count": null,
   "metadata": {},
   "outputs": [],
   "source": []
  }
 ],
 "metadata": {
  "kernelspec": {
   "display_name": "customer-churn-prediction-pipeline",
   "language": "python",
   "name": "python3"
  },
  "language_info": {
   "codemirror_mode": {
    "name": "ipython",
    "version": 3
   },
   "file_extension": ".py",
   "mimetype": "text/x-python",
   "name": "python",
   "nbconvert_exporter": "python",
   "pygments_lexer": "ipython3",
   "version": "3.9.20"
  }
 },
 "nbformat": 4,
 "nbformat_minor": 2
}
